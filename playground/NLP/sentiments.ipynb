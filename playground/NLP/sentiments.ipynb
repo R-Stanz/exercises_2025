{
 "cells": [
  {
   "cell_type": "markdown",
   "id": "8e51f36c-d385-4cb0-b4b8-cf51904da260",
   "metadata": {},
   "source": [
    "# Sentiments Analysis\n",
    "## Based on comments\n",
    "Data Source: https://archive.ics.uci.edu/dataset/331/sentiment+labelled+sentences"
   ]
  },
  {
   "cell_type": "markdown",
   "id": "cc6d9bf0-5925-4906-9db4-6c19ecf0408f",
   "metadata": {},
   "source": [
    "#### 1) Opening the data from files"
   ]
  },
  {
   "cell_type": "code",
   "execution_count": 1,
   "id": "e54ebcfb-9358-4d57-b19c-3828cf6cd5bc",
   "metadata": {},
   "outputs": [],
   "source": [
    "files_folder = './data/'\n",
    "files_paths = [files_folder + i for i in ['amazon_cells_labelled.txt', 'imdb_labelled.txt', 'yelp_labelled.txt']]"
   ]
  },
  {
   "cell_type": "markdown",
   "id": "37f1c960-0d44-476c-9287-0b6216fce790",
   "metadata": {},
   "source": [
    "#### 2) Putting the file data into lists"
   ]
  },
  {
   "cell_type": "code",
   "execution_count": 2,
   "id": "e44420ae-94e1-484a-b09b-581dc553d199",
   "metadata": {},
   "outputs": [],
   "source": [
    "positive_reviews = []\n",
    "negative_reviews = []\n",
    "\n",
    "for file_path in files_paths:\n",
    "    file = open(file_path, 'r')\n",
    "    for line in file:\n",
    "        suffix = -3\n",
    "        if file_path == './data/imdb_labelled.txt':\n",
    "            suffix = -5\n",
    "        \n",
    "        if int(line[-2]):\n",
    "            line = line[:suffix]\n",
    "            positive_reviews.append(line)\n",
    "        else:\n",
    "            line = line[:suffix]\n",
    "            negative_reviews.append(line)"
   ]
  },
  {
   "cell_type": "markdown",
   "id": "9cc01629-b8b6-4d92-950e-440c74f0f542",
   "metadata": {},
   "source": [
    "#### 3) Making syntatic data"
   ]
  },
  {
   "cell_type": "markdown",
   "id": "e49104b3-015f-4d8e-a2c5-82aa3186915b",
   "metadata": {},
   "source": [
    "Using combinatory functions would make the model more addicted,\n",
    "so it has been used the randomic approach."
   ]
  },
  {
   "cell_type": "markdown",
   "id": "efd6f83e-d313-4b3a-bc80-c4de0458d2e7",
   "metadata": {},
   "source": [
    "##### Calling library function"
   ]
  },
  {
   "cell_type": "code",
   "execution_count": 3,
   "id": "9ccd5b00-a565-4aa6-9331-ce9b6be0f8ba",
   "metadata": {},
   "outputs": [],
   "source": [
    "from random import randint, sample, seed"
   ]
  },
  {
   "cell_type": "markdown",
   "id": "77f5bff3-3dfc-4c9e-b68a-4b24114f32cd",
   "metadata": {},
   "source": [
    "##### Set up"
   ]
  },
  {
   "cell_type": "code",
   "execution_count": 4,
   "id": "2609e401-ee78-4ed3-95ee-683c823820ac",
   "metadata": {},
   "outputs": [],
   "source": [
    "seed = 777\n",
    "new_sentence = lambda sentences : \" \".join(sample(sentences, randint(2,4)))"
   ]
  },
  {
   "cell_type": "markdown",
   "id": "8ea747b8-de15-4303-96e8-cd2aaa65fb9d",
   "metadata": {},
   "source": [
    "##### Positive"
   ]
  },
  {
   "cell_type": "code",
   "execution_count": 5,
   "id": "d64ef050-63c9-466f-b620-6ac6df5558d5",
   "metadata": {},
   "outputs": [],
   "source": [
    "for i in range(200):\n",
    "    syntetic = new_sentence(positive_reviews)\n",
    "    positive_reviews.append(syntetic)"
   ]
  },
  {
   "cell_type": "markdown",
   "id": "2f7c00d3-0d2e-4b60-a50f-34cd9bcf81ed",
   "metadata": {},
   "source": [
    "##### Negative"
   ]
  },
  {
   "cell_type": "code",
   "execution_count": 6,
   "id": "ea7d08bb-2d2e-4aa2-93af-c07e80d5273e",
   "metadata": {},
   "outputs": [],
   "source": [
    "for i in range(200):\n",
    "    syntetic = new_sentence(negative_reviews)\n",
    "    negative_reviews.append(syntetic)"
   ]
  },
  {
   "cell_type": "markdown",
   "id": "cc631007-a2d6-47a5-8339-add27345be5a",
   "metadata": {},
   "source": [
    "#### 4) Building the databases (Train/Test)"
   ]
  },
  {
   "cell_type": "markdown",
   "id": "59df06d3-1cb2-452f-8c02-cf0eee666392",
   "metadata": {},
   "source": [
    "##### Import library"
   ]
  },
  {
   "cell_type": "code",
   "execution_count": 7,
   "id": "406973c8-bcb3-418a-8b6b-5a4fe3f20fc6",
   "metadata": {},
   "outputs": [],
   "source": [
    "import pandas as pd"
   ]
  },
  {
   "cell_type": "markdown",
   "id": "b6548a6d-bf3e-40a4-b181-819bf705bfbf",
   "metadata": {},
   "source": [
    "##### Process"
   ]
  },
  {
   "cell_type": "code",
   "execution_count": 8,
   "id": "7ad11a45-bad6-4158-9cc1-0461499517bd",
   "metadata": {},
   "outputs": [],
   "source": [
    "sentiments_dict = {\n",
    "    'review': positive_reviews + negative_reviews,\n",
    "    'approval': [1 for i in positive_reviews] + [0 for i in negative_reviews]\n",
    "}\n",
    "\n",
    "df = pd.DataFrame(sentiments_dict)\n",
    "del sentiments_dict, positive_reviews, negative_reviews"
   ]
  },
  {
   "cell_type": "code",
   "execution_count": 9,
   "id": "221a4775-e712-491f-b177-2042ffc76d2d",
   "metadata": {},
   "outputs": [
    {
     "data": {
      "text/plain": [
       "approval\n",
       "1    1700\n",
       "0    1700\n",
       "Name: count, dtype: int64"
      ]
     },
     "execution_count": 9,
     "metadata": {},
     "output_type": "execute_result"
    }
   ],
   "source": [
    "df['approval'].value_counts()"
   ]
  },
  {
   "cell_type": "markdown",
   "id": "5c11cc04-fce2-4f44-a282-8500d9dfbd13",
   "metadata": {},
   "source": [
    "#### 5) Clear texts"
   ]
  },
  {
   "cell_type": "markdown",
   "id": "d2744de9-87d7-4c35-bf75-6de639ec95f2",
   "metadata": {},
   "source": [
    "##### Importing library function"
   ]
  },
  {
   "cell_type": "code",
   "execution_count": 10,
   "id": "9edcf4c6-6c68-4129-8abc-e6c0b6f047bf",
   "metadata": {},
   "outputs": [],
   "source": [
    "import re"
   ]
  },
  {
   "cell_type": "markdown",
   "id": "ad823f28-3683-4dda-b1ff-560c5ab7aff8",
   "metadata": {},
   "source": [
    "##### Clear function"
   ]
  },
  {
   "cell_type": "code",
   "execution_count": 11,
   "id": "e45be6eb-b9b5-4576-9972-a9efbe084310",
   "metadata": {},
   "outputs": [],
   "source": [
    "def clean_text(text):\n",
    "    text = re.sub(r\"([^\\w\\s])\\1+\", r\"\", text) # Removes Multiple Punctuations\n",
    "    return text.lower()"
   ]
  },
  {
   "cell_type": "markdown",
   "id": "14644ede-bbef-4c77-bdac-934df1c7fa68",
   "metadata": {},
   "source": [
    "##### Process"
   ]
  },
  {
   "cell_type": "code",
   "execution_count": 12,
   "id": "39b84eb9-2661-4817-a7bd-986f64009b43",
   "metadata": {},
   "outputs": [
    {
     "data": {
      "text/html": [
       "<div>\n",
       "<style scoped>\n",
       "    .dataframe tbody tr th:only-of-type {\n",
       "        vertical-align: middle;\n",
       "    }\n",
       "\n",
       "    .dataframe tbody tr th {\n",
       "        vertical-align: top;\n",
       "    }\n",
       "\n",
       "    .dataframe thead th {\n",
       "        text-align: right;\n",
       "    }\n",
       "</style>\n",
       "<table border=\"1\" class=\"dataframe\">\n",
       "  <thead>\n",
       "    <tr style=\"text-align: right;\">\n",
       "      <th></th>\n",
       "      <th>review</th>\n",
       "      <th>clean_review</th>\n",
       "    </tr>\n",
       "  </thead>\n",
       "  <tbody>\n",
       "    <tr>\n",
       "      <th>2771</th>\n",
       "      <td>I came back today since they relocated and sti...</td>\n",
       "      <td>i came back today since they relocated and sti...</td>\n",
       "    </tr>\n",
       "    <tr>\n",
       "      <th>1518</th>\n",
       "      <td>The aerial scenes were well-done. This is a go...</td>\n",
       "      <td>the aerial scenes were well-done. this is a go...</td>\n",
       "    </tr>\n",
       "    <tr>\n",
       "      <th>1265</th>\n",
       "      <td>The steaks are all well trimmed and also perfe...</td>\n",
       "      <td>the steaks are all well trimmed and also perfe...</td>\n",
       "    </tr>\n",
       "  </tbody>\n",
       "</table>\n",
       "</div>"
      ],
      "text/plain": [
       "                                                 review  \\\n",
       "2771  I came back today since they relocated and sti...   \n",
       "1518  The aerial scenes were well-done. This is a go...   \n",
       "1265  The steaks are all well trimmed and also perfe...   \n",
       "\n",
       "                                           clean_review  \n",
       "2771  i came back today since they relocated and sti...  \n",
       "1518  the aerial scenes were well-done. this is a go...  \n",
       "1265  the steaks are all well trimmed and also perfe...  "
      ]
     },
     "execution_count": 12,
     "metadata": {},
     "output_type": "execute_result"
    }
   ],
   "source": [
    "df['clean_review'] = df['review'].apply(clean_text)\n",
    "df[['review', 'clean_review']].sample(3)"
   ]
  },
  {
   "cell_type": "markdown",
   "id": "179724b0-3edb-4096-b49a-ecc369a2afdf",
   "metadata": {},
   "source": [
    "#### 6) Stop Words Removal"
   ]
  },
  {
   "cell_type": "markdown",
   "id": "64e18e67-0a08-4653-8e38-de99565a9227",
   "metadata": {},
   "source": [
    "##### Importing libraries"
   ]
  },
  {
   "cell_type": "code",
   "execution_count": 13,
   "id": "39b93427-ff44-4f15-b07d-a64874a05440",
   "metadata": {},
   "outputs": [
    {
     "name": "stderr",
     "output_type": "stream",
     "text": [
      "[nltk_data] Downloading package stopwords to /home/stnz/nltk_data...\n",
      "[nltk_data]   Package stopwords is already up-to-date!\n",
      "[nltk_data] Downloading package punkt_tab to /home/stnz/nltk_data...\n",
      "[nltk_data]   Package punkt_tab is already up-to-date!\n",
      "[nltk_data] Downloading package punkt to /home/stnz/nltk_data...\n",
      "[nltk_data]   Package punkt is already up-to-date!\n"
     ]
    },
    {
     "data": {
      "text/plain": [
       "True"
      ]
     },
     "execution_count": 13,
     "metadata": {},
     "output_type": "execute_result"
    }
   ],
   "source": [
    "import nltk\n",
    "\n",
    "from nltk import word_tokenize\n",
    "from nltk.corpus import stopwords\n",
    "from nltk.tokenize import word_tokenize\n",
    "\n",
    "nltk.download('stopwords')\n",
    "nltk.download('punkt_tab')\n",
    "nltk.download('punkt')"
   ]
  },
  {
   "cell_type": "markdown",
   "id": "7df40633-089d-4c5b-a2a5-371ff49d47bd",
   "metadata": {},
   "source": [
    "##### Set up"
   ]
  },
  {
   "cell_type": "code",
   "execution_count": 14,
   "id": "03e7ecce-7b27-482e-8dbc-0f8aa0bd49ae",
   "metadata": {},
   "outputs": [],
   "source": [
    "usefull_words = {\"no\", \"nor\", \"not\", \"don'\", \"don't\", \"ain\", \"aren\", \"aren't\", \n",
    "                 \"couldn\", \"couldn't\", \"didn\", \"didn't\", \"doesn\", \"doesn't\",\n",
    "                 \"hadn\", \"hadn't\", \"hasn\", \"hasn't\", \"haven't\", \"isn\", \"isn't\",\n",
    "                 \"mightn\", \"mightn't\", \"mustn\", \"mustn't\", \"needn\", \"needn't\",\n",
    "                 \"shan\", \"shan't\", \"shan't\", \"shouldn\", \"shouldn't\", \"wasn\",\n",
    "                 \"wasn't\", \"weren\", \"weren't\", \"won't\", \"wouldn\", \"wouldn't\"}\n",
    "\n",
    "stop_words = set([w for w in stopwords.words('english') if w not in usefull_words])"
   ]
  },
  {
   "cell_type": "code",
   "execution_count": 15,
   "id": "89cdb071-d12d-4130-a0cb-8dec6d474bca",
   "metadata": {},
   "outputs": [],
   "source": [
    "def remove_stopwords(text):\n",
    "    words = nltk.word_tokenize(text)\n",
    "    return \" \".join([word for word in words if word not in stop_words])"
   ]
  },
  {
   "cell_type": "markdown",
   "id": "65c13d2c-40e0-412b-b679-42e27f546eec",
   "metadata": {},
   "source": [
    "##### Process"
   ]
  },
  {
   "cell_type": "code",
   "execution_count": 16,
   "id": "b0e26a94-e5ac-4bd6-8f3c-02f6c529225c",
   "metadata": {},
   "outputs": [],
   "source": [
    "df['no_stopwords'] = df['clean_review'].apply(remove_stopwords)"
   ]
  },
  {
   "cell_type": "code",
   "execution_count": 17,
   "id": "d529d45b-e043-486d-877c-8d7c3952e384",
   "metadata": {},
   "outputs": [
    {
     "data": {
      "text/html": [
       "<div>\n",
       "<style scoped>\n",
       "    .dataframe tbody tr th:only-of-type {\n",
       "        vertical-align: middle;\n",
       "    }\n",
       "\n",
       "    .dataframe tbody tr th {\n",
       "        vertical-align: top;\n",
       "    }\n",
       "\n",
       "    .dataframe thead th {\n",
       "        text-align: right;\n",
       "    }\n",
       "</style>\n",
       "<table border=\"1\" class=\"dataframe\">\n",
       "  <thead>\n",
       "    <tr style=\"text-align: right;\">\n",
       "      <th></th>\n",
       "      <th>clean_review</th>\n",
       "      <th>no_stopwords</th>\n",
       "    </tr>\n",
       "  </thead>\n",
       "  <tbody>\n",
       "    <tr>\n",
       "      <th>199</th>\n",
       "      <td>after trying many many handsfree gadgets this ...</td>\n",
       "      <td>trying many many handsfree gadgets one finally...</td>\n",
       "    </tr>\n",
       "    <tr>\n",
       "      <th>1550</th>\n",
       "      <td>you learn a lot about the real inside emotions...</td>\n",
       "      <td>learn lot real inside emotions people movie , ...</td>\n",
       "    </tr>\n",
       "    <tr>\n",
       "      <th>7</th>\n",
       "      <td>highly recommend for any one who has a blue to...</td>\n",
       "      <td>highly recommend one blue tooth phone .</td>\n",
       "    </tr>\n",
       "  </tbody>\n",
       "</table>\n",
       "</div>"
      ],
      "text/plain": [
       "                                           clean_review  \\\n",
       "199   after trying many many handsfree gadgets this ...   \n",
       "1550  you learn a lot about the real inside emotions...   \n",
       "7     highly recommend for any one who has a blue to...   \n",
       "\n",
       "                                           no_stopwords  \n",
       "199   trying many many handsfree gadgets one finally...  \n",
       "1550  learn lot real inside emotions people movie , ...  \n",
       "7               highly recommend one blue tooth phone .  "
      ]
     },
     "execution_count": 17,
     "metadata": {},
     "output_type": "execute_result"
    }
   ],
   "source": [
    "df[['clean_review', 'no_stopwords']].sample(3)"
   ]
  },
  {
   "cell_type": "markdown",
   "id": "9734d066-ff9d-4fe1-9023-ce9e79f808ad",
   "metadata": {},
   "source": [
    "#### 7) Stemming"
   ]
  },
  {
   "cell_type": "markdown",
   "id": "f6cfeb86-0245-4ef2-a8af-3331a7ea6502",
   "metadata": {},
   "source": [
    "I chose stemming beacuse it's computacional complexity is lower than lemming, \n",
    "taking into count that there are many instances of training because of the\n",
    "permutations done to the original data."
   ]
  },
  {
   "cell_type": "markdown",
   "id": "dd57b437-8846-4b6e-9ae4-6da732bc40a6",
   "metadata": {},
   "source": [
    "##### Importing libraries"
   ]
  },
  {
   "cell_type": "code",
   "execution_count": 18,
   "id": "72228a0f-664d-4463-8282-d51568cc1488",
   "metadata": {},
   "outputs": [],
   "source": [
    "from nltk.stem import PorterStemmer"
   ]
  },
  {
   "cell_type": "markdown",
   "id": "9b8a4954-95fb-4092-9770-940de7af39de",
   "metadata": {},
   "source": [
    "##### Set up"
   ]
  },
  {
   "cell_type": "code",
   "execution_count": 19,
   "id": "dda7b780-747a-4169-a80a-b9dbd15edbbd",
   "metadata": {},
   "outputs": [],
   "source": [
    "def stem(text):\n",
    "    words = nltk.word_tokenize(text)\n",
    "    stemmer = PorterStemmer()\n",
    "    return \" \".join([stemmer.stem(word) for word in words])    "
   ]
  },
  {
   "cell_type": "markdown",
   "id": "b7318ce8-a9f4-4dda-b860-f876ed5fd7a0",
   "metadata": {},
   "source": [
    "##### Process"
   ]
  },
  {
   "cell_type": "code",
   "execution_count": 20,
   "id": "65a7f8e7-a6dd-4f15-9a68-541540c318df",
   "metadata": {},
   "outputs": [],
   "source": [
    "df['stemmed'] = df['no_stopwords'].apply(stem)"
   ]
  },
  {
   "cell_type": "code",
   "execution_count": 21,
   "id": "02e7b0d8-279a-41a7-964e-88b7ba3fe12d",
   "metadata": {},
   "outputs": [
    {
     "data": {
      "text/html": [
       "<div>\n",
       "<style scoped>\n",
       "    .dataframe tbody tr th:only-of-type {\n",
       "        vertical-align: middle;\n",
       "    }\n",
       "\n",
       "    .dataframe tbody tr th {\n",
       "        vertical-align: top;\n",
       "    }\n",
       "\n",
       "    .dataframe thead th {\n",
       "        text-align: right;\n",
       "    }\n",
       "</style>\n",
       "<table border=\"1\" class=\"dataframe\">\n",
       "  <thead>\n",
       "    <tr style=\"text-align: right;\">\n",
       "      <th></th>\n",
       "      <th>no_stopwords</th>\n",
       "      <th>stemmed</th>\n",
       "    </tr>\n",
       "  </thead>\n",
       "  <tbody>\n",
       "    <tr>\n",
       "      <th>679</th>\n",
       "      <td>) makes story different terrific production va...</td>\n",
       "      <td>) make stori differ terrif product valu - faul...</td>\n",
       "    </tr>\n",
       "    <tr>\n",
       "      <th>3303</th>\n",
       "      <td>muddy , low quality sound , casing around wire...</td>\n",
       "      <td>muddi , low qualiti sound , case around wire '...</td>\n",
       "    </tr>\n",
       "    <tr>\n",
       "      <th>139</th>\n",
       "      <td>love headset !</td>\n",
       "      <td>love headset !</td>\n",
       "    </tr>\n",
       "  </tbody>\n",
       "</table>\n",
       "</div>"
      ],
      "text/plain": [
       "                                           no_stopwords  \\\n",
       "679   ) makes story different terrific production va...   \n",
       "3303  muddy , low quality sound , casing around wire...   \n",
       "139                                      love headset !   \n",
       "\n",
       "                                                stemmed  \n",
       "679   ) make stori differ terrif product valu - faul...  \n",
       "3303  muddi , low qualiti sound , case around wire '...  \n",
       "139                                      love headset !  "
      ]
     },
     "execution_count": 21,
     "metadata": {},
     "output_type": "execute_result"
    }
   ],
   "source": [
    "df[['no_stopwords', 'stemmed']].sample(3)"
   ]
  },
  {
   "cell_type": "markdown",
   "id": "0f2a8774-2c6a-4ad7-b4ee-651069e90b42",
   "metadata": {},
   "source": [
    "#### 8) Bag Of Words"
   ]
  },
  {
   "cell_type": "markdown",
   "id": "2d012a2e-9a1c-4e8c-9b06-4868042cc116",
   "metadata": {},
   "source": [
    "This method is ideal for short text (such as the ones used here).\n",
    "Also it has a lower computing complexity when compared to the TF-IDF."
   ]
  },
  {
   "cell_type": "markdown",
   "id": "61a86c0f-f823-4feb-8062-da99fe38f18e",
   "metadata": {},
   "source": [
    "##### Importing library function"
   ]
  },
  {
   "cell_type": "code",
   "execution_count": 22,
   "id": "a200d270-3f38-4c18-96ce-c422af5b18d9",
   "metadata": {},
   "outputs": [],
   "source": [
    "from sklearn.feature_extraction.text import CountVectorizer"
   ]
  },
  {
   "cell_type": "markdown",
   "id": "f59be6d2-c29b-4d7b-b1aa-1c04a0379d7a",
   "metadata": {},
   "source": [
    "##### Process"
   ]
  },
  {
   "cell_type": "code",
   "execution_count": 23,
   "id": "8aa9bc58-dc01-4717-8108-e1ca32dfa2a6",
   "metadata": {},
   "outputs": [],
   "source": [
    "cv = CountVectorizer()\n",
    "X = cv.fit_transform(df['stemmed'])"
   ]
  },
  {
   "cell_type": "markdown",
   "id": "43f5af52-e3ba-4182-82c0-334280d7a8ae",
   "metadata": {},
   "source": [
    "#### 9) Divide Data (Train/Test)"
   ]
  },
  {
   "cell_type": "markdown",
   "id": "f2e8a119-d04c-44ce-abc1-715253217f1f",
   "metadata": {},
   "source": [
    "##### Importing libraries function"
   ]
  },
  {
   "cell_type": "code",
   "execution_count": 24,
   "id": "c736bfcd-2ab7-41cc-bc7b-4ab6f26300f3",
   "metadata": {},
   "outputs": [],
   "source": [
    "from sklearn.model_selection import train_test_split"
   ]
  },
  {
   "cell_type": "markdown",
   "id": "40f61242-cc46-4bca-a1ba-04240293a432",
   "metadata": {},
   "source": [
    "##### Process"
   ]
  },
  {
   "cell_type": "code",
   "execution_count": 25,
   "id": "1a4c17d4-dbc8-4d43-8bdd-ca60535fbe5f",
   "metadata": {},
   "outputs": [],
   "source": [
    "X_train, X_test, Y_train, Y_test = train_test_split(X, df['approval'], test_size=0.3, random_state=777)"
   ]
  },
  {
   "cell_type": "markdown",
   "id": "a52ee61e-51f0-4176-8891-e4d596c754d7",
   "metadata": {},
   "source": [
    "#### 10) Naive Bayes"
   ]
  },
  {
   "cell_type": "markdown",
   "id": "a67d36d6-d298-4421-8a0d-30d174a43dd4",
   "metadata": {},
   "source": [
    "##### Importing libraries function"
   ]
  },
  {
   "cell_type": "code",
   "execution_count": 26,
   "id": "f6ec92a6-2883-4a27-b018-f8b8dc84b0c2",
   "metadata": {},
   "outputs": [],
   "source": [
    "from sklearn.naive_bayes import MultinomialNB"
   ]
  },
  {
   "cell_type": "markdown",
   "id": "e9807b12-c41a-4fc0-aa19-59a3f2713746",
   "metadata": {},
   "source": [
    "##### Train"
   ]
  },
  {
   "cell_type": "code",
   "execution_count": 27,
   "id": "aef973c1-7d3d-4ac4-9cc3-94a4c89a06fa",
   "metadata": {},
   "outputs": [
    {
     "data": {
      "text/html": [
       "<style>#sk-container-id-1 {\n",
       "  /* Definition of color scheme common for light and dark mode */\n",
       "  --sklearn-color-text: #000;\n",
       "  --sklearn-color-text-muted: #666;\n",
       "  --sklearn-color-line: gray;\n",
       "  /* Definition of color scheme for unfitted estimators */\n",
       "  --sklearn-color-unfitted-level-0: #fff5e6;\n",
       "  --sklearn-color-unfitted-level-1: #f6e4d2;\n",
       "  --sklearn-color-unfitted-level-2: #ffe0b3;\n",
       "  --sklearn-color-unfitted-level-3: chocolate;\n",
       "  /* Definition of color scheme for fitted estimators */\n",
       "  --sklearn-color-fitted-level-0: #f0f8ff;\n",
       "  --sklearn-color-fitted-level-1: #d4ebff;\n",
       "  --sklearn-color-fitted-level-2: #b3dbfd;\n",
       "  --sklearn-color-fitted-level-3: cornflowerblue;\n",
       "\n",
       "  /* Specific color for light theme */\n",
       "  --sklearn-color-text-on-default-background: var(--sg-text-color, var(--theme-code-foreground, var(--jp-content-font-color1, black)));\n",
       "  --sklearn-color-background: var(--sg-background-color, var(--theme-background, var(--jp-layout-color0, white)));\n",
       "  --sklearn-color-border-box: var(--sg-text-color, var(--theme-code-foreground, var(--jp-content-font-color1, black)));\n",
       "  --sklearn-color-icon: #696969;\n",
       "\n",
       "  @media (prefers-color-scheme: dark) {\n",
       "    /* Redefinition of color scheme for dark theme */\n",
       "    --sklearn-color-text-on-default-background: var(--sg-text-color, var(--theme-code-foreground, var(--jp-content-font-color1, white)));\n",
       "    --sklearn-color-background: var(--sg-background-color, var(--theme-background, var(--jp-layout-color0, #111)));\n",
       "    --sklearn-color-border-box: var(--sg-text-color, var(--theme-code-foreground, var(--jp-content-font-color1, white)));\n",
       "    --sklearn-color-icon: #878787;\n",
       "  }\n",
       "}\n",
       "\n",
       "#sk-container-id-1 {\n",
       "  color: var(--sklearn-color-text);\n",
       "}\n",
       "\n",
       "#sk-container-id-1 pre {\n",
       "  padding: 0;\n",
       "}\n",
       "\n",
       "#sk-container-id-1 input.sk-hidden--visually {\n",
       "  border: 0;\n",
       "  clip: rect(1px 1px 1px 1px);\n",
       "  clip: rect(1px, 1px, 1px, 1px);\n",
       "  height: 1px;\n",
       "  margin: -1px;\n",
       "  overflow: hidden;\n",
       "  padding: 0;\n",
       "  position: absolute;\n",
       "  width: 1px;\n",
       "}\n",
       "\n",
       "#sk-container-id-1 div.sk-dashed-wrapped {\n",
       "  border: 1px dashed var(--sklearn-color-line);\n",
       "  margin: 0 0.4em 0.5em 0.4em;\n",
       "  box-sizing: border-box;\n",
       "  padding-bottom: 0.4em;\n",
       "  background-color: var(--sklearn-color-background);\n",
       "}\n",
       "\n",
       "#sk-container-id-1 div.sk-container {\n",
       "  /* jupyter's `normalize.less` sets `[hidden] { display: none; }`\n",
       "     but bootstrap.min.css set `[hidden] { display: none !important; }`\n",
       "     so we also need the `!important` here to be able to override the\n",
       "     default hidden behavior on the sphinx rendered scikit-learn.org.\n",
       "     See: https://github.com/scikit-learn/scikit-learn/issues/21755 */\n",
       "  display: inline-block !important;\n",
       "  position: relative;\n",
       "}\n",
       "\n",
       "#sk-container-id-1 div.sk-text-repr-fallback {\n",
       "  display: none;\n",
       "}\n",
       "\n",
       "div.sk-parallel-item,\n",
       "div.sk-serial,\n",
       "div.sk-item {\n",
       "  /* draw centered vertical line to link estimators */\n",
       "  background-image: linear-gradient(var(--sklearn-color-text-on-default-background), var(--sklearn-color-text-on-default-background));\n",
       "  background-size: 2px 100%;\n",
       "  background-repeat: no-repeat;\n",
       "  background-position: center center;\n",
       "}\n",
       "\n",
       "/* Parallel-specific style estimator block */\n",
       "\n",
       "#sk-container-id-1 div.sk-parallel-item::after {\n",
       "  content: \"\";\n",
       "  width: 100%;\n",
       "  border-bottom: 2px solid var(--sklearn-color-text-on-default-background);\n",
       "  flex-grow: 1;\n",
       "}\n",
       "\n",
       "#sk-container-id-1 div.sk-parallel {\n",
       "  display: flex;\n",
       "  align-items: stretch;\n",
       "  justify-content: center;\n",
       "  background-color: var(--sklearn-color-background);\n",
       "  position: relative;\n",
       "}\n",
       "\n",
       "#sk-container-id-1 div.sk-parallel-item {\n",
       "  display: flex;\n",
       "  flex-direction: column;\n",
       "}\n",
       "\n",
       "#sk-container-id-1 div.sk-parallel-item:first-child::after {\n",
       "  align-self: flex-end;\n",
       "  width: 50%;\n",
       "}\n",
       "\n",
       "#sk-container-id-1 div.sk-parallel-item:last-child::after {\n",
       "  align-self: flex-start;\n",
       "  width: 50%;\n",
       "}\n",
       "\n",
       "#sk-container-id-1 div.sk-parallel-item:only-child::after {\n",
       "  width: 0;\n",
       "}\n",
       "\n",
       "/* Serial-specific style estimator block */\n",
       "\n",
       "#sk-container-id-1 div.sk-serial {\n",
       "  display: flex;\n",
       "  flex-direction: column;\n",
       "  align-items: center;\n",
       "  background-color: var(--sklearn-color-background);\n",
       "  padding-right: 1em;\n",
       "  padding-left: 1em;\n",
       "}\n",
       "\n",
       "\n",
       "/* Toggleable style: style used for estimator/Pipeline/ColumnTransformer box that is\n",
       "clickable and can be expanded/collapsed.\n",
       "- Pipeline and ColumnTransformer use this feature and define the default style\n",
       "- Estimators will overwrite some part of the style using the `sk-estimator` class\n",
       "*/\n",
       "\n",
       "/* Pipeline and ColumnTransformer style (default) */\n",
       "\n",
       "#sk-container-id-1 div.sk-toggleable {\n",
       "  /* Default theme specific background. It is overwritten whether we have a\n",
       "  specific estimator or a Pipeline/ColumnTransformer */\n",
       "  background-color: var(--sklearn-color-background);\n",
       "}\n",
       "\n",
       "/* Toggleable label */\n",
       "#sk-container-id-1 label.sk-toggleable__label {\n",
       "  cursor: pointer;\n",
       "  display: flex;\n",
       "  width: 100%;\n",
       "  margin-bottom: 0;\n",
       "  padding: 0.5em;\n",
       "  box-sizing: border-box;\n",
       "  text-align: center;\n",
       "  align-items: start;\n",
       "  justify-content: space-between;\n",
       "  gap: 0.5em;\n",
       "}\n",
       "\n",
       "#sk-container-id-1 label.sk-toggleable__label .caption {\n",
       "  font-size: 0.6rem;\n",
       "  font-weight: lighter;\n",
       "  color: var(--sklearn-color-text-muted);\n",
       "}\n",
       "\n",
       "#sk-container-id-1 label.sk-toggleable__label-arrow:before {\n",
       "  /* Arrow on the left of the label */\n",
       "  content: \"▸\";\n",
       "  float: left;\n",
       "  margin-right: 0.25em;\n",
       "  color: var(--sklearn-color-icon);\n",
       "}\n",
       "\n",
       "#sk-container-id-1 label.sk-toggleable__label-arrow:hover:before {\n",
       "  color: var(--sklearn-color-text);\n",
       "}\n",
       "\n",
       "/* Toggleable content - dropdown */\n",
       "\n",
       "#sk-container-id-1 div.sk-toggleable__content {\n",
       "  max-height: 0;\n",
       "  max-width: 0;\n",
       "  overflow: hidden;\n",
       "  text-align: left;\n",
       "  /* unfitted */\n",
       "  background-color: var(--sklearn-color-unfitted-level-0);\n",
       "}\n",
       "\n",
       "#sk-container-id-1 div.sk-toggleable__content.fitted {\n",
       "  /* fitted */\n",
       "  background-color: var(--sklearn-color-fitted-level-0);\n",
       "}\n",
       "\n",
       "#sk-container-id-1 div.sk-toggleable__content pre {\n",
       "  margin: 0.2em;\n",
       "  border-radius: 0.25em;\n",
       "  color: var(--sklearn-color-text);\n",
       "  /* unfitted */\n",
       "  background-color: var(--sklearn-color-unfitted-level-0);\n",
       "}\n",
       "\n",
       "#sk-container-id-1 div.sk-toggleable__content.fitted pre {\n",
       "  /* unfitted */\n",
       "  background-color: var(--sklearn-color-fitted-level-0);\n",
       "}\n",
       "\n",
       "#sk-container-id-1 input.sk-toggleable__control:checked~div.sk-toggleable__content {\n",
       "  /* Expand drop-down */\n",
       "  max-height: 200px;\n",
       "  max-width: 100%;\n",
       "  overflow: auto;\n",
       "}\n",
       "\n",
       "#sk-container-id-1 input.sk-toggleable__control:checked~label.sk-toggleable__label-arrow:before {\n",
       "  content: \"▾\";\n",
       "}\n",
       "\n",
       "/* Pipeline/ColumnTransformer-specific style */\n",
       "\n",
       "#sk-container-id-1 div.sk-label input.sk-toggleable__control:checked~label.sk-toggleable__label {\n",
       "  color: var(--sklearn-color-text);\n",
       "  background-color: var(--sklearn-color-unfitted-level-2);\n",
       "}\n",
       "\n",
       "#sk-container-id-1 div.sk-label.fitted input.sk-toggleable__control:checked~label.sk-toggleable__label {\n",
       "  background-color: var(--sklearn-color-fitted-level-2);\n",
       "}\n",
       "\n",
       "/* Estimator-specific style */\n",
       "\n",
       "/* Colorize estimator box */\n",
       "#sk-container-id-1 div.sk-estimator input.sk-toggleable__control:checked~label.sk-toggleable__label {\n",
       "  /* unfitted */\n",
       "  background-color: var(--sklearn-color-unfitted-level-2);\n",
       "}\n",
       "\n",
       "#sk-container-id-1 div.sk-estimator.fitted input.sk-toggleable__control:checked~label.sk-toggleable__label {\n",
       "  /* fitted */\n",
       "  background-color: var(--sklearn-color-fitted-level-2);\n",
       "}\n",
       "\n",
       "#sk-container-id-1 div.sk-label label.sk-toggleable__label,\n",
       "#sk-container-id-1 div.sk-label label {\n",
       "  /* The background is the default theme color */\n",
       "  color: var(--sklearn-color-text-on-default-background);\n",
       "}\n",
       "\n",
       "/* On hover, darken the color of the background */\n",
       "#sk-container-id-1 div.sk-label:hover label.sk-toggleable__label {\n",
       "  color: var(--sklearn-color-text);\n",
       "  background-color: var(--sklearn-color-unfitted-level-2);\n",
       "}\n",
       "\n",
       "/* Label box, darken color on hover, fitted */\n",
       "#sk-container-id-1 div.sk-label.fitted:hover label.sk-toggleable__label.fitted {\n",
       "  color: var(--sklearn-color-text);\n",
       "  background-color: var(--sklearn-color-fitted-level-2);\n",
       "}\n",
       "\n",
       "/* Estimator label */\n",
       "\n",
       "#sk-container-id-1 div.sk-label label {\n",
       "  font-family: monospace;\n",
       "  font-weight: bold;\n",
       "  display: inline-block;\n",
       "  line-height: 1.2em;\n",
       "}\n",
       "\n",
       "#sk-container-id-1 div.sk-label-container {\n",
       "  text-align: center;\n",
       "}\n",
       "\n",
       "/* Estimator-specific */\n",
       "#sk-container-id-1 div.sk-estimator {\n",
       "  font-family: monospace;\n",
       "  border: 1px dotted var(--sklearn-color-border-box);\n",
       "  border-radius: 0.25em;\n",
       "  box-sizing: border-box;\n",
       "  margin-bottom: 0.5em;\n",
       "  /* unfitted */\n",
       "  background-color: var(--sklearn-color-unfitted-level-0);\n",
       "}\n",
       "\n",
       "#sk-container-id-1 div.sk-estimator.fitted {\n",
       "  /* fitted */\n",
       "  background-color: var(--sklearn-color-fitted-level-0);\n",
       "}\n",
       "\n",
       "/* on hover */\n",
       "#sk-container-id-1 div.sk-estimator:hover {\n",
       "  /* unfitted */\n",
       "  background-color: var(--sklearn-color-unfitted-level-2);\n",
       "}\n",
       "\n",
       "#sk-container-id-1 div.sk-estimator.fitted:hover {\n",
       "  /* fitted */\n",
       "  background-color: var(--sklearn-color-fitted-level-2);\n",
       "}\n",
       "\n",
       "/* Specification for estimator info (e.g. \"i\" and \"?\") */\n",
       "\n",
       "/* Common style for \"i\" and \"?\" */\n",
       "\n",
       ".sk-estimator-doc-link,\n",
       "a:link.sk-estimator-doc-link,\n",
       "a:visited.sk-estimator-doc-link {\n",
       "  float: right;\n",
       "  font-size: smaller;\n",
       "  line-height: 1em;\n",
       "  font-family: monospace;\n",
       "  background-color: var(--sklearn-color-background);\n",
       "  border-radius: 1em;\n",
       "  height: 1em;\n",
       "  width: 1em;\n",
       "  text-decoration: none !important;\n",
       "  margin-left: 0.5em;\n",
       "  text-align: center;\n",
       "  /* unfitted */\n",
       "  border: var(--sklearn-color-unfitted-level-1) 1pt solid;\n",
       "  color: var(--sklearn-color-unfitted-level-1);\n",
       "}\n",
       "\n",
       ".sk-estimator-doc-link.fitted,\n",
       "a:link.sk-estimator-doc-link.fitted,\n",
       "a:visited.sk-estimator-doc-link.fitted {\n",
       "  /* fitted */\n",
       "  border: var(--sklearn-color-fitted-level-1) 1pt solid;\n",
       "  color: var(--sklearn-color-fitted-level-1);\n",
       "}\n",
       "\n",
       "/* On hover */\n",
       "div.sk-estimator:hover .sk-estimator-doc-link:hover,\n",
       ".sk-estimator-doc-link:hover,\n",
       "div.sk-label-container:hover .sk-estimator-doc-link:hover,\n",
       ".sk-estimator-doc-link:hover {\n",
       "  /* unfitted */\n",
       "  background-color: var(--sklearn-color-unfitted-level-3);\n",
       "  color: var(--sklearn-color-background);\n",
       "  text-decoration: none;\n",
       "}\n",
       "\n",
       "div.sk-estimator.fitted:hover .sk-estimator-doc-link.fitted:hover,\n",
       ".sk-estimator-doc-link.fitted:hover,\n",
       "div.sk-label-container:hover .sk-estimator-doc-link.fitted:hover,\n",
       ".sk-estimator-doc-link.fitted:hover {\n",
       "  /* fitted */\n",
       "  background-color: var(--sklearn-color-fitted-level-3);\n",
       "  color: var(--sklearn-color-background);\n",
       "  text-decoration: none;\n",
       "}\n",
       "\n",
       "/* Span, style for the box shown on hovering the info icon */\n",
       ".sk-estimator-doc-link span {\n",
       "  display: none;\n",
       "  z-index: 9999;\n",
       "  position: relative;\n",
       "  font-weight: normal;\n",
       "  right: .2ex;\n",
       "  padding: .5ex;\n",
       "  margin: .5ex;\n",
       "  width: min-content;\n",
       "  min-width: 20ex;\n",
       "  max-width: 50ex;\n",
       "  color: var(--sklearn-color-text);\n",
       "  box-shadow: 2pt 2pt 4pt #999;\n",
       "  /* unfitted */\n",
       "  background: var(--sklearn-color-unfitted-level-0);\n",
       "  border: .5pt solid var(--sklearn-color-unfitted-level-3);\n",
       "}\n",
       "\n",
       ".sk-estimator-doc-link.fitted span {\n",
       "  /* fitted */\n",
       "  background: var(--sklearn-color-fitted-level-0);\n",
       "  border: var(--sklearn-color-fitted-level-3);\n",
       "}\n",
       "\n",
       ".sk-estimator-doc-link:hover span {\n",
       "  display: block;\n",
       "}\n",
       "\n",
       "/* \"?\"-specific style due to the `<a>` HTML tag */\n",
       "\n",
       "#sk-container-id-1 a.estimator_doc_link {\n",
       "  float: right;\n",
       "  font-size: 1rem;\n",
       "  line-height: 1em;\n",
       "  font-family: monospace;\n",
       "  background-color: var(--sklearn-color-background);\n",
       "  border-radius: 1rem;\n",
       "  height: 1rem;\n",
       "  width: 1rem;\n",
       "  text-decoration: none;\n",
       "  /* unfitted */\n",
       "  color: var(--sklearn-color-unfitted-level-1);\n",
       "  border: var(--sklearn-color-unfitted-level-1) 1pt solid;\n",
       "}\n",
       "\n",
       "#sk-container-id-1 a.estimator_doc_link.fitted {\n",
       "  /* fitted */\n",
       "  border: var(--sklearn-color-fitted-level-1) 1pt solid;\n",
       "  color: var(--sklearn-color-fitted-level-1);\n",
       "}\n",
       "\n",
       "/* On hover */\n",
       "#sk-container-id-1 a.estimator_doc_link:hover {\n",
       "  /* unfitted */\n",
       "  background-color: var(--sklearn-color-unfitted-level-3);\n",
       "  color: var(--sklearn-color-background);\n",
       "  text-decoration: none;\n",
       "}\n",
       "\n",
       "#sk-container-id-1 a.estimator_doc_link.fitted:hover {\n",
       "  /* fitted */\n",
       "  background-color: var(--sklearn-color-fitted-level-3);\n",
       "}\n",
       "</style><div id=\"sk-container-id-1\" class=\"sk-top-container\"><div class=\"sk-text-repr-fallback\"><pre>MultinomialNB()</pre><b>In a Jupyter environment, please rerun this cell to show the HTML representation or trust the notebook. <br />On GitHub, the HTML representation is unable to render, please try loading this page with nbviewer.org.</b></div><div class=\"sk-container\" hidden><div class=\"sk-item\"><div class=\"sk-estimator fitted sk-toggleable\"><input class=\"sk-toggleable__control sk-hidden--visually\" id=\"sk-estimator-id-1\" type=\"checkbox\" checked><label for=\"sk-estimator-id-1\" class=\"sk-toggleable__label fitted sk-toggleable__label-arrow\"><div><div>MultinomialNB</div></div><div><a class=\"sk-estimator-doc-link fitted\" rel=\"noreferrer\" target=\"_blank\" href=\"https://scikit-learn.org/1.6/modules/generated/sklearn.naive_bayes.MultinomialNB.html\">?<span>Documentation for MultinomialNB</span></a><span class=\"sk-estimator-doc-link fitted\">i<span>Fitted</span></span></div></label><div class=\"sk-toggleable__content fitted\"><pre>MultinomialNB()</pre></div> </div></div></div></div>"
      ],
      "text/plain": [
       "MultinomialNB()"
      ]
     },
     "execution_count": 27,
     "metadata": {},
     "output_type": "execute_result"
    }
   ],
   "source": [
    "classifier = MultinomialNB()\n",
    "classifier.fit(X_train, Y_train)"
   ]
  },
  {
   "cell_type": "markdown",
   "id": "b1bd097e-5425-49a2-9577-da3f9931b2d6",
   "metadata": {},
   "source": [
    "##### Predict"
   ]
  },
  {
   "cell_type": "code",
   "execution_count": 28,
   "id": "580463ba-f54c-4059-a2c6-4dc2cfb94ebc",
   "metadata": {},
   "outputs": [],
   "source": [
    "Y_prediction = classifier.predict(X_test)"
   ]
  },
  {
   "cell_type": "markdown",
   "id": "5e2dcba3-3142-464a-b8c7-a9219fc48578",
   "metadata": {},
   "source": [
    "#### 11) Results"
   ]
  },
  {
   "cell_type": "markdown",
   "id": "293721d9-0028-4128-9740-ea155af0c1a3",
   "metadata": {},
   "source": [
    "##### Importing libraries"
   ]
  },
  {
   "cell_type": "code",
   "execution_count": 29,
   "id": "34831d06-dd07-4de0-9c15-a6f6350ffa61",
   "metadata": {},
   "outputs": [],
   "source": [
    "from sklearn.metrics import ConfusionMatrixDisplay, confusion_matrix, classification_report\n",
    "import matplotlib.pyplot as plt"
   ]
  },
  {
   "cell_type": "markdown",
   "id": "d9a46d68-5b5a-41f8-90cb-a669ccf4aaec",
   "metadata": {},
   "source": [
    "##### Plotting"
   ]
  },
  {
   "cell_type": "markdown",
   "id": "da33edb7-5f49-41fe-9f16-19a58f72dfd0",
   "metadata": {},
   "source": [
    "##### Table"
   ]
  },
  {
   "cell_type": "code",
   "execution_count": 30,
   "id": "63c2fe71-1c76-4be2-90f1-b0d3f239a1be",
   "metadata": {},
   "outputs": [
    {
     "name": "stdout",
     "output_type": "stream",
     "text": [
      "Classification Report:\n",
      "              precision    recall  f1-score   support\n",
      "\n",
      "           0       0.85      0.86      0.85       489\n",
      "           1       0.87      0.86      0.86       531\n",
      "\n",
      "    accuracy                           0.86      1020\n",
      "   macro avg       0.86      0.86      0.86      1020\n",
      "weighted avg       0.86      0.86      0.86      1020\n",
      "\n"
     ]
    }
   ],
   "source": [
    "print(\"Classification Report:\")\n",
    "print(classification_report(Y_test, Y_prediction))"
   ]
  },
  {
   "cell_type": "code",
   "execution_count": 31,
   "id": "fc10f5dc-6c8e-4dad-81ad-f8e1b4b4d888",
   "metadata": {},
   "outputs": [
    {
     "data": {
      "image/png": "[encoded data removed]",
      "text/plain": [
       "<Figure size 640x480 with 2 Axes>"
      ]
     },
     "metadata": {},
     "output_type": "display_data"
    }
   ],
   "source": [
    "conf_matrix = confusion_matrix(Y_test, Y_prediction)\n",
    "disp = ConfusionMatrixDisplay(confusion_matrix=conf_matrix, display_labels=classifier.classes_)\n",
    "disp.plot(cmap=plt.cm.Blues)\n",
    "plt.title(\"Matriz de Confusão\")\n",
    "plt.show()"
   ]
  },
  {
   "cell_type": "markdown",
   "id": "ca1e9e47-7035-4fd5-89d6-25dd75580593",
   "metadata": {},
   "source": [
    "##### Conclusion"
   ]
  },
  {
   "cell_type": "markdown",
   "id": "0fcf2bee-6ff4-4b53-b959-4241547e3caf",
   "metadata": {},
   "source": [
    "The model used on this notebook got a high accuracy for the test sample.\n",
    "This mean that this model may be great for estimating the approval of clients based on their comments."
   ]
  }
 ],
 "metadata": {
  "kernelspec": {
   "display_name": "Python 3 (ipykernel)",
   "language": "python",
   "name": "python3"
  },
  "language_info": {
   "codemirror_mode": {
    "name": "ipython",
    "version": 3
   },
   "file_extension": ".py",
   "mimetype": "text/x-python",
   "name": "python",
   "nbconvert_exporter": "python",
   "pygments_lexer": "ipython3",
   "version": "3.12.3"
  }
 },
 "nbformat": 4,
 "nbformat_minor": 5
}
