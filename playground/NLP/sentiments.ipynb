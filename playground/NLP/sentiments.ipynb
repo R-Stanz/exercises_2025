{
 "cells": [
  {
   "cell_type": "code",
   "execution_count": 78,
   "id": "fc5f9abe-792a-4e59-b5ec-c1c802d94a10",
   "metadata": {},
   "outputs": [],
   "source": [
    "positive_reviews = []\n",
    "negative_reviews = []"
   ]
  },
  {
   "cell_type": "code",
   "execution_count": 79,
   "id": "e54ebcfb-9358-4d57-b19c-3828cf6cd5bc",
   "metadata": {},
   "outputs": [],
   "source": [
    "files_folder = './data/'\n",
    "files_paths = [files_folder + i for i in ['amazon_cells_labelled.txt', 'imdb_labelled.txt', 'yelp_labelled.txt']]"
   ]
  },
  {
   "cell_type": "code",
   "execution_count": 80,
   "id": "e44420ae-94e1-484a-b09b-581dc553d199",
   "metadata": {},
   "outputs": [],
   "source": [
    "from random import shuffle, seed\n",
    "\n",
    "for file_path in files_paths:\n",
    "    file = open(file_path, 'r')\n",
    "    for line in file:\n",
    "        suffix = -3\n",
    "        if file_path == './data/imdb_labelled.txt':\n",
    "            suffix = -5\n",
    "        \n",
    "        if int(line[-2]):\n",
    "            line = line[:suffix]\n",
    "            positive_reviews.append(line)\n",
    "        else:\n",
    "            line = line[:suffix]\n",
    "            negative_reviews.append(line)\n",
    "        \n",
    "seed(777)\n",
    "shuffle(positive_reviews)\n",
    "shuffle(negative_reviews)"
   ]
  },
  {
   "cell_type": "code",
   "execution_count": 81,
   "id": "ab8175c8-078b-41a9-b388-233799db1652",
   "metadata": {},
   "outputs": [
    {
     "data": {
      "text/plain": [
       "['They have great dinners.',\n",
       " 'This wonderful experience made this place a must-stop whenever we are in town again.',\n",
       " 'This is one of the best movies out there that shows such strong sibling bond for each other.',\n",
       " \"That's right....the red velvet cake.....ohhh this stuff is so good.\",\n",
       " 'The headset fulfills my requirements so I am happy with my purchase.',\n",
       " \"I do not know if this was Emilio Estevez's directorial debut, but the pacing, the interplay and development of the characters as well as some clever camera work surrounding the character Estevez plays all suggest a natural eye.\",\n",
       " 'The best part about \"Nurse Betty\" is it\\'s unpredictability.',\n",
       " \"I love the camera, it's really pretty good quality.\",\n",
       " 'Im in AZ all the time and now have my new spot.',\n",
       " 'Great audio!.']"
      ]
     },
     "execution_count": 81,
     "metadata": {},
     "output_type": "execute_result"
    }
   ],
   "source": [
    "data_quarter = len(positive_reviews) // 4\n",
    "train_positive_reviews = positive_reviews[:data_quarter]\n",
    "train_negative_reviews = negative_reviews[:data_quarter]\n",
    "\n",
    "model_positive_reviews = model_positive_reviews"
   ]
  },
  {
   "cell_type": "code",
   "execution_count": null,
   "id": "5db331b4-2f8a-4daf-ae35-3c6d66cc88da",
   "metadata": {},
   "outputs": [],
   "source": []
  }
 ],
 "metadata": {
  "kernelspec": {
   "display_name": "Python 3 (ipykernel)",
   "language": "python",
   "name": "python3"
  },
  "language_info": {
   "codemirror_mode": {
    "name": "ipython",
    "version": 3
   },
   "file_extension": ".py",
   "mimetype": "text/x-python",
   "name": "python",
   "nbconvert_exporter": "python",
   "pygments_lexer": "ipython3",
   "version": "3.12.3"
  }
 },
 "nbformat": 4,
 "nbformat_minor": 5
}
